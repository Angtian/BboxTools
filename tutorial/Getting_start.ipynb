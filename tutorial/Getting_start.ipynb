{
 "cells": [
  {
   "cell_type": "markdown",
   "metadata": {},
   "source": [
    "# Getting Start"
   ]
  },
  {
   "cell_type": "markdown",
   "metadata": {},
   "source": [
    "This chapter the basic usage of BboxTools. The BboxTools works on bounding box object which mainly store the information about a bounding box on a 2d image (could be in numpy.ndarry or torch.Tensor)."
   ]
  },
  {
   "cell_type": "code",
   "execution_count": 1,
   "metadata": {},
   "outputs": [],
   "source": [
    "import BboxTools as bbt\n",
    "import numpy as np"
   ]
  },
  {
   "cell_type": "markdown",
   "metadata": {},
   "source": [
    "**Creating bbox** \\\n",
    "There are several way to create a bounding box object. You could use the basic way to create a Bbox. Print the bbox could give all the information about this bbox. \\\n",
    "Notice: Although it is possible to create a bbox without set the boundary of the image boundary, setting the image boundary when creating the box is always recommanded."
   ]
  },
  {
   "cell_type": "code",
   "execution_count": 2,
   "metadata": {},
   "outputs": [
    {
     "name": "stdout",
     "output_type": "stream",
     "text": [
      "<class \"Bbox2D\", shape=[(2, 5), (3, 6)], boundary=[8, 8]>\n"
     ]
    }
   ],
   "source": [
    "# Create a bbox with y: 2 to 5, x: 3 to 6, desire to working with image with size 8 * 8 \n",
    "box = bbt.Bbox2D([(2, 5), (3, 6)], image_boundary=(8, 8))\n",
    "print(box)"
   ]
  },
  {
   "cell_type": "markdown",
   "metadata": {},
   "source": [
    "**Bbox attributes** \\\n",
    "For a bbox, there are sereval useful attributes. All the attributes can be simple calculate by bbox.bbox."
   ]
  },
  {
   "cell_type": "code",
   "execution_count": 3,
   "metadata": {},
   "outputs": [
    {
     "name": "stdout",
     "output_type": "stream",
     "text": [
      "bbox:  [[2, 5], [3, 6]]\n",
      "shape:  (3, 3)\n",
      "size:  9\n",
      "boundary:  [8, 8]\n",
      "center:  (3, 4)\n",
      "four points:  (2, 3) (5, 3) (5, 6) (2, 6)\n"
     ]
    }
   ],
   "source": [
    "print('bbox: ', box.bbox)  # The bounding box value, return in order [(y0, y1), (x0, x1)].\n",
    "print('shape: ', box.shape)  # Shape of bounding box, return in (y_len, x_len).\n",
    "print('size: ', box.size)  # Area covered box the box, as y_len * x_len.\n",
    "print('boundary: ', box.boundary)  # The target boundary (image or array) of the bounding box, set when created. Return None if not set.\n",
    "print('center: ', box.center)  # Center of the box, ((y0 + y1) / 2, (x0 + x1) / 2)\n",
    "print('four points: ', box.lu, box.ru, box.rb, box.lb)  # Four corners (left top, right top, right bottom, left bottom)"
   ]
  },
  {
   "cell_type": "markdown",
   "metadata": {},
   "source": [
    "**Apply and assign bbox** \\\n",
    "Applying a bbox meaning crop the part inside the bbox for the whole image. Currently, bbox can be apply to numpy.ndarry (with shape (w, h) or (w, h, c)) and torch.Tensor (this will be detailly discribed in section ) "
   ]
  },
  {
   "cell_type": "code",
   "execution_count": 4,
   "metadata": {},
   "outputs": [
    {
     "data": {
      "text/plain": [
       "array([[ 0,  1,  2,  3,  4,  5,  6,  7],\n",
       "       [ 1,  2,  3,  4,  5,  6,  7,  8],\n",
       "       [ 2,  3,  4,  5,  6,  7,  8,  9],\n",
       "       [ 3,  4,  5,  6,  7,  8,  9, 10],\n",
       "       [ 4,  5,  6,  7,  8,  9, 10, 11],\n",
       "       [ 5,  6,  7,  8,  9, 10, 11, 12],\n",
       "       [ 6,  7,  8,  9, 10, 11, 12, 13],\n",
       "       [ 7,  8,  9, 10, 11, 12, 13, 14]])"
      ]
     },
     "execution_count": 4,
     "metadata": {},
     "output_type": "execute_result"
    }
   ],
   "source": [
    "# Create an 8 * 8 array with incremental value alone both x and y axis\n",
    "a = np.arange(8).reshape((1, 8)) + np.arange(8).reshape((8, 1))\n",
    "a"
   ]
  },
  {
   "cell_type": "code",
   "execution_count": 5,
   "metadata": {},
   "outputs": [
    {
     "name": "stdout",
     "output_type": "stream",
     "text": [
      "[[5 6 7]\n",
      " [6 7 8]\n",
      " [7 8 9]]\n"
     ]
    }
   ],
   "source": [
    "# Apply this box on array a, which has same effects as a[2:5, 3:6]\n",
    "print(box.apply(a))\n",
    "assert np.all(box.apply(a) == a[2:5, 3:6])"
   ]
  },
  {
   "cell_type": "markdown",
   "metadata": {},
   "source": [
    "Assign a bbox means filling the part inside the bbox with given value. The value could be int or float or array value. \\\n",
    "Notice: this function is a inplace function and return nothing."
   ]
  },
  {
   "cell_type": "code",
   "execution_count": 6,
   "metadata": {},
   "outputs": [
    {
     "name": "stdout",
     "output_type": "stream",
     "text": [
      "[[ 0  1  2  3  4  5  6  7]\n",
      " [ 1  2  3  4  5  6  7  8]\n",
      " [ 2  3  4 -1 -1 -1  8  9]\n",
      " [ 3  4  5 -1 -1 -1  9 10]\n",
      " [ 4  5  6 -1 -1 -1 10 11]\n",
      " [ 5  6  7  8  9 10 11 12]\n",
      " [ 6  7  8  9 10 11 12 13]\n",
      " [ 7  8  9 10 11 12 13 14]]\n"
     ]
    }
   ],
   "source": [
    "box.assign(a, -1)\n",
    "print(a)"
   ]
  },
  {
   "cell_type": "code",
   "execution_count": 7,
   "metadata": {},
   "outputs": [
    {
     "name": "stdout",
     "output_type": "stream",
     "text": [
      "[[ 0  1  2  3  4  5  6  7]\n",
      " [ 1  2  3  4  5  6  7  8]\n",
      " [ 2  3  4 -2 -2 -2  8  9]\n",
      " [ 3  4  5 -2 -2 -2  9 10]\n",
      " [ 4  5  6 -2 -2 -2 10 11]\n",
      " [ 5  6  7  8  9 10 11 12]\n",
      " [ 6  7  8  9 10 11 12 13]\n",
      " [ 7  8  9 10 11 12 13 14]]\n"
     ]
    }
   ],
   "source": [
    "box.assign(a, np.ones(box.shape) * -2)\n",
    "print(a)"
   ]
  },
  {
   "cell_type": "markdown",
   "metadata": {},
   "source": [
    "**Single box operations** \\\n",
    "Bbox support bbox operations including padding, shifting, transposing, scaling etc. \\\n",
    "Notice: most of the single operation (include pad, shift, etc) are not inplace."
   ]
  },
  {
   "cell_type": "code",
   "execution_count": 8,
   "metadata": {},
   "outputs": [
    {
     "name": "stdout",
     "output_type": "stream",
     "text": [
      "<class \"Bbox2D\", shape=[(1, 6), (2, 7)], boundary=[8, 8]>\n",
      "<class \"Bbox2D\", shape=[(1, 6), (4, 5)], boundary=[8, 8]>\n"
     ]
    }
   ],
   "source": [
    "# Pad the bounding box by 1 \n",
    "print(box.pad(1))\n",
    "# Pad the bounding box by (1, -1), which means, pad 1 on axis0 and -1 on axis1\n",
    "print(box.pad((1, -1), axis=(0, 1)))"
   ]
  },
  {
   "cell_type": "code",
   "execution_count": 9,
   "metadata": {},
   "outputs": [
    {
     "name": "stdout",
     "output_type": "stream",
     "text": [
      "<class \"Bbox2D\", shape=[(2, 5), (3, 6)], boundary=[8, 8]>\n",
      "<class \"Bbox2D\", shape=[(2, 5), (4, 7)], boundary=[8, 8]>\n",
      "<class \"Bbox2D\", shape=[(3, 6), (5, 8)], boundary=[8, 8]>\n",
      "<class \"Bbox2D\", shape=[(3, 6), (6, 8)], boundary=[8, 8]>\n"
     ]
    }
   ],
   "source": [
    "# Shift the box by (0, 1) and (1, 3)\n",
    "print(box)\n",
    "print(box.shift((0, 1)))\n",
    "\n",
    "# Notice that when force sets to False (default) and the bbox has a boundary the bbox will remain inside the target with a unchanged shape\n",
    "print(box.shift((1, 3)))\n",
    "\n",
    "# If set force=True the returned bbox will be cropped when out of boundary (which will return the box with a different shape)\n",
    "print(box.shift((1, 3), force=True))"
   ]
  },
  {
   "cell_type": "code",
   "execution_count": 10,
   "metadata": {},
   "outputs": [
    {
     "name": "stdout",
     "output_type": "stream",
     "text": [
      "<class \"Bbox2D\", shape=[(3, 6), (2, 5)], boundary=[8, 8]>\n"
     ]
    }
   ],
   "source": [
    "# Transpose the bounding box (the bounding box will also be transposed)\n",
    "print(box.transpose())"
   ]
  },
  {
   "cell_type": "code",
   "execution_count": 11,
   "metadata": {},
   "outputs": [
    {
     "name": "stdout",
     "output_type": "stream",
     "text": [
      "<class \"Bbox2D\", shape=[(4, 10), (6, 12)], boundary=[16, 16]>\n",
      "<class \"Bbox2D\", shape=[(3, 7), (6, 12)], boundary=[12, 16]>\n"
     ]
    }
   ],
   "source": [
    "# Scale the bounding box by given ratio. The ratio could be int or float or (int, int) or (float, float)\n",
    "# Notice: boundary will also be modified and the value will be round to int.\n",
    "print(box * 2)\n",
    "print(box * (1.5, 2))"
   ]
  },
  {
   "cell_type": "markdown",
   "metadata": {},
   "source": [
    "**Dual box operations** \\\n",
    "Dual box operations includes equal, intersection, and in-box and out-box operations. "
   ]
  },
  {
   "cell_type": "code",
   "execution_count": 12,
   "metadata": {},
   "outputs": [],
   "source": [
    "# Create two bbox on same image.\n",
    "box_a = bbt.Bbox2D([(1, 6), (2, 7)], image_boundary=(8, 10))\n",
    "box_b = bbt.Bbox2D([(3, 5), (4, 9)], image_boundary=(8, 10))"
   ]
  },
  {
   "cell_type": "code",
   "execution_count": 13,
   "metadata": {},
   "outputs": [
    {
     "name": "stdout",
     "output_type": "stream",
     "text": [
      "True\n",
      "False\n"
     ]
    }
   ],
   "source": [
    "# To check if two bboxs are equal, using \"==\" \n",
    "# box_a == box_b only if the box_a.bbox and box_b.bbox is identical. (boundary is not necessary to be identical)\n",
    "print(box_a == box_a)\n",
    "print(box_a == box_b)"
   ]
  },
  {
   "cell_type": "code",
   "execution_count": 14,
   "metadata": {},
   "outputs": [
    {
     "name": "stdout",
     "output_type": "stream",
     "text": [
      "<class \"Bbox2D\", shape=[(3, 5), (4, 7)], boundary=[8, 10]>\n",
      "[[0 0 0 0 0 0 0 0 0 0]\n",
      " [0 0 1 1 1 1 1 0 0 0]\n",
      " [0 0 1 1 1 1 1 0 0 0]\n",
      " [0 0 1 1 3 3 3 2 2 0]\n",
      " [0 0 1 1 3 3 3 2 2 0]\n",
      " [0 0 1 1 1 1 1 0 0 0]\n",
      " [0 0 0 0 0 0 0 0 0 0]\n",
      " [0 0 0 0 0 0 0 0 0 0]]\n"
     ]
    }
   ],
   "source": [
    "# To get the intersection of two bboxs, using \"&\"\n",
    "print(box_a & box_b)\n",
    "\n",
    "# Given a array view to demostrate the intersection operation\n",
    "b = np.zeros((8, 10), dtype=np.uint8)\n",
    "box_a.assign(b, 1)\n",
    "box_b.assign(b, 2)\n",
    "(box_a & box_b).assign(b, 3)\n",
    "print(b)"
   ]
  },
  {
   "cell_type": "markdown",
   "metadata": {},
   "source": [
    "The box-in-box operation requires box_b to be inside box_a. And the operations will return a new bbox which is related bbox inside box_a with image_boundary = box_a.shape. \\\n",
    "box-out-box is the inverse operation of box_in_box."
   ]
  },
  {
   "cell_type": "code",
   "execution_count": 15,
   "metadata": {},
   "outputs": [
    {
     "name": "stdout",
     "output_type": "stream",
     "text": [
      "<class \"Bbox2D\", shape=[(2, 4), (2, 5)], boundary=[5, 5]>\n"
     ]
    }
   ],
   "source": [
    "# Create a box_b inside box_a\n",
    "box_b = bbt.Bbox2D([(3, 5), (4, 7)], image_boundary=(8, 10))\n",
    "box_in = box_a.box_in_box(box_b)\n",
    "print(box_in)"
   ]
  },
  {
   "cell_type": "code",
   "execution_count": 16,
   "metadata": {},
   "outputs": [
    {
     "name": "stdout",
     "output_type": "stream",
     "text": [
      "<class \"Bbox2D\", shape=[(3, 5), (4, 7)], boundary=[8, 10]>\n"
     ]
    }
   ],
   "source": [
    "box_out = box_a.box_out_box(box_in)\n",
    "print(box_out)"
   ]
  }
 ],
 "metadata": {
  "kernelspec": {
   "display_name": "Python 3",
   "language": "python",
   "name": "python3"
  },
  "language_info": {
   "codemirror_mode": {
    "name": "ipython",
    "version": 3
   },
   "file_extension": ".py",
   "mimetype": "text/x-python",
   "name": "python",
   "nbconvert_exporter": "python",
   "pygments_lexer": "ipython3",
   "version": "3.7.4"
  }
 },
 "nbformat": 4,
 "nbformat_minor": 2
}
