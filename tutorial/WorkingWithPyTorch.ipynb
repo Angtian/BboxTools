{
 "cells": [
  {
   "cell_type": "markdown",
   "metadata": {},
   "source": [
    "# Working With PyTorch"
   ]
  },
  {
   "cell_type": "markdown",
   "metadata": {},
   "source": [
    "Similarity to numpy, BboxTools can also compliable with pytorch. The method apply() and assign() that could be used on numpy array could also apply to pytorch tensor. Notice that the standard shape for numpy array is (h, w) or (h, w, c), however for torch tensor is (n, c, h, w) or (c, h, w) or (h, w). The bbox is also define on h and w axis."
   ]
  },
  {
   "cell_type": "code",
   "execution_count": 1,
   "metadata": {},
   "outputs": [],
   "source": [
    "import torch\n",
    "import BboxTools as bbt"
   ]
  },
  {
   "cell_type": "markdown",
   "metadata": {},
   "source": [
    "**Create bbox** \\\n",
    "Similar to getting start chapter, we will first create a bbox but apply it to torch tensor."
   ]
  },
  {
   "cell_type": "code",
   "execution_count": 2,
   "metadata": {},
   "outputs": [
    {
     "name": "stdout",
     "output_type": "stream",
     "text": [
      "<class \"Bbox2D\", shape=[(2, 5), (3, 6)], boundary=[8, 8]>\n"
     ]
    }
   ],
   "source": [
    "# Create a bbox with y: 2 to 5, x: 3 to 6, desire to working with image with size 8 * 8 \n",
    "box = bbt.Bbox2D([(2, 5), (3, 6)], image_boundary=(8, 8))\n",
    "print(box)"
   ]
  },
  {
   "cell_type": "code",
   "execution_count": 3,
   "metadata": {},
   "outputs": [
    {
     "name": "stdout",
     "output_type": "stream",
     "text": [
      "tensor([[ 0,  1,  2,  3,  4,  5,  6,  7],\n",
      "        [ 1,  2,  3,  4,  5,  6,  7,  8],\n",
      "        [ 2,  3,  4,  5,  6,  7,  8,  9],\n",
      "        [ 3,  4,  5,  6,  7,  8,  9, 10],\n",
      "        [ 4,  5,  6,  7,  8,  9, 10, 11],\n",
      "        [ 5,  6,  7,  8,  9, 10, 11, 12],\n",
      "        [ 6,  7,  8,  9, 10, 11, 12, 13],\n",
      "        [ 7,  8,  9, 10, 11, 12, 13, 14]])\n"
     ]
    }
   ],
   "source": [
    "a = torch.arange(0, 8).view(1, -1) + torch.arange(0, 8).view(-1, 1)\n",
    "print(a)"
   ]
  },
  {
   "cell_type": "code",
   "execution_count": 4,
   "metadata": {},
   "outputs": [
    {
     "name": "stdout",
     "output_type": "stream",
     "text": [
      "tensor([[5, 6, 7],\n",
      "        [6, 7, 8],\n",
      "        [7, 8, 9]])\n"
     ]
    }
   ],
   "source": [
    "# Apply the bbox to tensor a\n",
    "print(box.apply(a))"
   ]
  },
  {
   "cell_type": "code",
   "execution_count": 5,
   "metadata": {},
   "outputs": [
    {
     "name": "stdout",
     "output_type": "stream",
     "text": [
      "tensor([[ 0,  1,  2,  3,  4,  5,  6,  7],\n",
      "        [ 1,  2,  3,  4,  5,  6,  7,  8],\n",
      "        [ 2,  3,  4, 25, 26, 27,  8,  9],\n",
      "        [ 3,  4,  5, 26, 27, 28,  9, 10],\n",
      "        [ 4,  5,  6, 27, 28, 29, 10, 11],\n",
      "        [ 5,  6,  7,  8,  9, 10, 11, 12],\n",
      "        [ 6,  7,  8,  9, 10, 11, 12, 13],\n",
      "        [ 7,  8,  9, 10, 11, 12, 13, 14]])\n"
     ]
    }
   ],
   "source": [
    "# Increase value inside bbox by 20\n",
    "box.assign(a, box.apply(a) + 20)\n",
    "print(a)"
   ]
  },
  {
   "cell_type": "markdown",
   "metadata": {},
   "source": [
    "**Apply to 3D and 4D tensor** \\\n",
    "The common shape in CNN is (n, c, h, w). BboxTools can also be apply to this tensors while retain the gradient. Notice: a tensor requires grad cannot using assign method, as pytorch doesn't allow inplace operation on a tensor with enable_grad = True."
   ]
  },
  {
   "cell_type": "code",
   "execution_count": 6,
   "metadata": {},
   "outputs": [
    {
     "name": "stdout",
     "output_type": "stream",
     "text": [
      "(3, 3)\n",
      "torch.Size([6, 3, 3])\n",
      "torch.Size([2, 6, 3, 3])\n"
     ]
    }
   ],
   "source": [
    "print(box.shape)\n",
    "\n",
    "# Applying bbox to a 3D tensor\n",
    "b = torch.zeros((6, 8, 8))\n",
    "print(box.apply(b).shape)\n",
    "\n",
    "# Applying bbox to a 4D tensor\n",
    "b = torch.zeros((2, 6, 8, 8))\n",
    "print(box.apply(b).shape)"
   ]
  },
  {
   "cell_type": "code",
   "execution_count": 7,
   "metadata": {},
   "outputs": [
    {
     "name": "stdout",
     "output_type": "stream",
     "text": [
      "tensor(108.)\n"
     ]
    }
   ],
   "source": [
    "# Assign bbox to a 4D tensor with value 1\n",
    "box.assign(b, 1)\n",
    "\n",
    "# The result should be 2 * 6 * 3 * 3 = 108\n",
    "print(torch.sum(b))"
   ]
  },
  {
   "cell_type": "code",
   "execution_count": 8,
   "metadata": {},
   "outputs": [
    {
     "name": "stdout",
     "output_type": "stream",
     "text": [
      "tensor([[[[0., 0., 0., 0., 0., 0., 0., 0.],\n",
      "          [0., 0., 0., 0., 0., 0., 0., 0.],\n",
      "          [0., 0., 0., 1., 1., 1., 0., 0.],\n",
      "          [0., 0., 0., 1., 1., 1., 0., 0.],\n",
      "          [0., 0., 0., 1., 1., 1., 0., 0.],\n",
      "          [0., 0., 0., 0., 0., 0., 0., 0.],\n",
      "          [0., 0., 0., 0., 0., 0., 0., 0.],\n",
      "          [0., 0., 0., 0., 0., 0., 0., 0.]]]])\n"
     ]
    }
   ],
   "source": [
    "# Applying bbox will retain grad\n",
    "c = torch.ones((1, 1, 8, 8))\n",
    "c.requires_grad = True\n",
    "loss = torch.sum(box.apply(c))\n",
    "loss.backward()\n",
    "print(c.grad)"
   ]
  },
  {
   "cell_type": "markdown",
   "metadata": {},
   "source": [
    "**Create a bbox with torch tensor** \\\n",
    "You can also calculate a box that cover all the non-zero parts of a tensor."
   ]
  },
  {
   "cell_type": "code",
   "execution_count": 9,
   "metadata": {},
   "outputs": [
    {
     "name": "stdout",
     "output_type": "stream",
     "text": [
      "tensor([[[[0., 0., 0., 0., 0., 0., 0., 0.],\n",
      "          [0., 0., 0., 0., 0., 0., 0., 0.],\n",
      "          [0., 0., 0., 1., 1., 1., 0., 0.],\n",
      "          [0., 0., 0., 1., 1., 1., 0., 0.],\n",
      "          [0., 0., 0., 1., 1., 1., 0., 0.],\n",
      "          [0., 0., 0., 0., 0., 0., 0., 0.],\n",
      "          [0., 0., 0., 0., 0., 0., 0., 0.],\n",
      "          [0., 0., 0., 0., 0., 0., 0., 0.]]]])\n",
      "<class \"Bbox2D\", shape=[(2, 4), (3, 5)], boundary=[8, 8]>\n"
     ]
    }
   ],
   "source": [
    "d = c.grad\n",
    "print(d)\n",
    "\n",
    "# Create a box covers nonzero parts of d\n",
    "print(bbt.nonzero(d))"
   ]
  },
  {
   "cell_type": "code",
   "execution_count": 10,
   "metadata": {},
   "outputs": [
    {
     "name": "stdout",
     "output_type": "stream",
     "text": [
      "<class \"Bbox2D\", shape=[(0, 8), (0, 8)], boundary=[8, 8]>\n"
     ]
    }
   ],
   "source": [
    "# You can also use full method to a tensor\n",
    "print(bbt.full(d))"
   ]
  }
 ],
 "metadata": {
  "kernelspec": {
   "display_name": "Python 3",
   "language": "python",
   "name": "python3"
  },
  "language_info": {
   "codemirror_mode": {
    "name": "ipython",
    "version": 3
   },
   "file_extension": ".py",
   "mimetype": "text/x-python",
   "name": "python",
   "nbconvert_exporter": "python",
   "pygments_lexer": "ipython3",
   "version": "3.7.4"
  }
 },
 "nbformat": 4,
 "nbformat_minor": 2
}
