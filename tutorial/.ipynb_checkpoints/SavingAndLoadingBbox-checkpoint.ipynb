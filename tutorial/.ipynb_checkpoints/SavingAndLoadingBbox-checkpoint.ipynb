{
 "cells": [
  {
   "cell_type": "markdown",
   "metadata": {},
   "source": [
    "# Saving & Loading Bounding Box"
   ]
  },
  {
   "cell_type": "markdown",
   "metadata": {},
   "source": [
    "**Save Bbox** \\\n",
    "BboxTools uses numpy to save a bounding box. BboxTools provides method to convert a bbox or a list of bboxs to a numpy array, as well as method to load from converted array. Thus, you could using numpy.save() to save bboxs as npy or npz files. "
   ]
  },
  {
   "cell_type": "code",
   "execution_count": 1,
   "metadata": {},
   "outputs": [],
   "source": [
    "import numpy as np\n",
    "import BboxTools as bbt"
   ]
  },
  {
   "cell_type": "code",
   "execution_count": 2,
   "metadata": {},
   "outputs": [
    {
     "name": "stdout",
     "output_type": "stream",
     "text": [
      "<class \"Bbox2D\", shape=[(2, 5), (3, 6)], boundary=[8, 8]>\n"
     ]
    }
   ],
   "source": [
    "# Create a bbox\n",
    "box0 = bbt.Bbox2D([(2, 5), (3, 6)], image_boundary=(8, 8))\n",
    "print(box0)"
   ]
  },
  {
   "cell_type": "code",
   "execution_count": 3,
   "metadata": {},
   "outputs": [
    {
     "name": "stdout",
     "output_type": "stream",
     "text": [
      "[2. 5. 3. 6. 8. 8.]\n"
     ]
    }
   ],
   "source": [
    "# Convert this bbox to numpy\n",
    "# Notice that the default sort is (y0, y1, x0, x1, boundary0, boundary1)\n",
    "print(box0.numpy())"
   ]
  },
  {
   "cell_type": "code",
   "execution_count": 4,
   "metadata": {},
   "outputs": [
    {
     "name": "stdout",
     "output_type": "stream",
     "text": [
      "[2. 5. 3. 6.]\n"
     ]
    }
   ],
   "source": [
    "# A bbox without bounary will give a array with shape (4, )\n",
    "print(box0.copy().remove_boundary().numpy())"
   ]
  },
  {
   "cell_type": "markdown",
   "metadata": {},
   "source": [
    "BboxTools have function list_box_to_numpy to convert list of bbox to a 2d ndarray. You could enable or disable save_image_boundary, that will return an array with (n, 6) if enabled, (n, 4) otherwise. Notice the default setting of save_image_boundary is False. Also notice enable save_image_boundary requires all the boxes in this list to have boundary, otherwise, it will raise a error."
   ]
  },
  {
   "cell_type": "code",
   "execution_count": 5,
   "metadata": {},
   "outputs": [
    {
     "name": "stdout",
     "output_type": "stream",
     "text": [
      "[[2. 5. 3. 6. 8. 8.]\n",
      " [0. 7. 1. 8. 8. 8.]\n",
      " [3. 6. 5. 8. 9. 9.]]\n"
     ]
    }
   ],
   "source": [
    "# Convert a list of bboxs\n",
    "box_list = [box0, box0.pad(2), box0.shift((1, 2)).set_boundary((9, 9))]\n",
    "box_array = bbt.list_box_to_numpy(box_list, save_image_boundary=True)\n",
    "print(box_array)"
   ]
  },
  {
   "cell_type": "markdown",
   "metadata": {},
   "source": [
    "Then to save this array, you can using np.save('name_to_file.npy', box_array)"
   ]
  },
  {
   "cell_type": "markdown",
   "metadata": {},
   "source": [
    "**Load Bbox** \\\n",
    "To load bbox from file, you need firstly load the file to np.ndarry, which can be done by box_array = np.load('name_to_file.npy'). Then you can convert it to a bbox (if the array is 1D) or list of bboxs (if the array is 2D) via bbt.from_numpy(). The default sorts is (y0, y1, x0, x1), however, if you want to load from other source that have a different defination of bbox, you could change it via parameter sorts. Also, this function will automatically load boundary if axis(-1) is equal or large then 6, which is controled by load_boundary_if_possible (default True)."
   ]
  },
  {
   "cell_type": "code",
   "execution_count": 6,
   "metadata": {},
   "outputs": [
    {
     "name": "stdout",
     "output_type": "stream",
     "text": [
      "<class \"Bbox2D\", shape=[(2, 5), (3, 6)]>\n",
      "<class \"Bbox2D\", shape=[(2, 5), (3, 6)]>\n",
      "<class \"Bbox2D\", shape=[(2, 5), (3, 6)], boundary=[8, 8]>\n"
     ]
    }
   ],
   "source": [
    "# Load bbox from 1D array\n",
    "print(bbt.from_numpy(np.array([2, 5, 3, 6])))\n",
    "\n",
    "# Change sorts (default sorts in pillow)\n",
    "print(bbt.from_numpy(np.array([3, 2, 6, 5]), sorts=('x0', 'y0', 'x1', 'y1')))\n",
    "\n",
    "# Also load the image boundary\n",
    "print(bbt.from_numpy(np.array([2, 5, 3, 6, 8, 8])))"
   ]
  },
  {
   "cell_type": "code",
   "execution_count": 7,
   "metadata": {},
   "outputs": [
    {
     "name": "stdout",
     "output_type": "stream",
     "text": [
      "[<class \"Bbox2D\", shape=[(2, 5), (3, 6)], boundary=[8, 8]>, <class \"Bbox2D\", shape=[(0, 7), (1, 8)], boundary=[8, 8]>, <class \"Bbox2D\", shape=[(3, 6), (5, 8)], boundary=[9, 9]>]\n"
     ]
    }
   ],
   "source": [
    "# Load bbox from 2D array\n",
    "print(bbt.from_numpy(box_array))"
   ]
  }
 ],
 "metadata": {
  "kernelspec": {
   "display_name": "Python 3",
   "language": "python",
   "name": "python3"
  },
  "language_info": {
   "codemirror_mode": {
    "name": "ipython",
    "version": 3
   },
   "file_extension": ".py",
   "mimetype": "text/x-python",
   "name": "python",
   "nbconvert_exporter": "python",
   "pygments_lexer": "ipython3",
   "version": "3.7.4"
  }
 },
 "nbformat": 4,
 "nbformat_minor": 2
}
